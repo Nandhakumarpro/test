{
 "cells": [],
 "metadata": {},
 "nbformat": 4,
 "nbformat_minor": 2
}
from multiprocessing import Pool , Queue

import mysql.connector as msc


from mysql.connector.cursor import MySQLCursorPrepared


con = msc.connect( host = 'localhost' , user = 'root' ,password = 'nandha1lava' ,database = 'test' ,use_pure = True )

cur = con.cursor(  cursor_class=MySQLCursorPrepared)

cur.executemany( 'insert  into Test(id , Name) values(%s , %s)' , [(2, "GaneshRaj") , ( 3, "Mary")])

cur.execute ( 'update Test set Name = "Ganesh" where Name = "GaneshRaj"')

cur.execute ( "select * from Test")

cur.fetchall()
